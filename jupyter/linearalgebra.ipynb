{
 "cells": [
  {
   "cell_type": "markdown",
   "metadata": {},
   "source": [
    "# Math Review for NN and ML\n",
    "\n",
    "**Part 1: Linear Algebra** (Python – Jupyter Notebook)\n",
    "\n",
    "**Part 2: Multivariate Calculus** (Python – Jupyter Notebook)\n",
    "\n",
    "**Part 3: Probability Theory** (R – RStudio)\n",
    "\n",
    "## Linear Algebra Notebook\n",
    "\n",
    "This notebook highlights some of the concepts in Linear Algebra implemented in Python.\n",
    "\n",
    "### Preliminaries\n",
    "\n",
    "Alongside _jupyter_, you need to install _numpy_, and _matplotlib_ to use this notebook.\n",
    "\n",
    "Helpful Note:\n",
    "Virtual environments are recommended when playing with this playground to separate the installation of dependencies from your personal computing environment."
   ]
  },
  {
   "cell_type": "code",
   "execution_count": 1,
   "metadata": {},
   "outputs": [
    {
     "name": "stdout",
     "output_type": "stream",
     "text": [
      "Python version: 3.7.0 (default, Oct  2 2018, 09:20:07) \n",
      "[Clang 10.0.0 (clang-1000.11.45.2)]\n",
      "NumPy version:  1.15.3\n"
     ]
    }
   ],
   "source": [
    "# Check for python and numpy installation:\n",
    "import sys\n",
    "import numpy as np\n",
    "\n",
    "print(f'Python version: {sys.version}')\n",
    "print(f'NumPy version:  {np.__version__}')"
   ]
  },
  {
   "cell_type": "code",
   "execution_count": 2,
   "metadata": {},
   "outputs": [],
   "source": [
    "# Import the Linear Algebra module from NumPy\n",
    "from numpy import linalg"
   ]
  },
  {
   "cell_type": "code",
   "execution_count": 3,
   "metadata": {},
   "outputs": [],
   "source": [
    "######################################################################"
   ]
  },
  {
   "cell_type": "markdown",
   "metadata": {},
   "source": [
    "#### Scalars\n",
    "\n",
    "Scalars represent a single value, typically denoted in literature as a lowercase variable ie. $x$.\n",
    "\n",
    "$$a=0$$\n",
    "$$b=1$$"
   ]
  },
  {
   "cell_type": "code",
   "execution_count": 4,
   "metadata": {},
   "outputs": [
    {
     "name": "stdout",
     "output_type": "stream",
     "text": [
      "a = 0\n",
      "b = 1\n"
     ]
    }
   ],
   "source": [
    "# Defining a scalar:\n",
    "a = 0\n",
    "b = 1\n",
    "print(f'a = {a}')\n",
    "print(f'b = {b}')"
   ]
  },
  {
   "cell_type": "code",
   "execution_count": 5,
   "metadata": {},
   "outputs": [],
   "source": [
    "######################################################################"
   ]
  },
  {
   "cell_type": "markdown",
   "metadata": {},
   "source": [
    "#### Vectors\n",
    "\n",
    "Vectors represent an array of values, either in a row or in a column, where each element are identified by an index.\n",
    "\n",
    "Vectors are typically denoted in literature as a lowercase bolded variable. In some context, vectors are denoted by a variable with a bar on top.\n",
    "\n",
    "Indices are denoted by a lowercase variable, where $\\textit{i}$ is used in most literature.\n",
    "\n",
    "\n",
    "$${ x }=\\left[ \\quad \\textbf{ x }_{ 0 }\\quad \\textbf{ x }_{ 1 }\\quad ...\\quad \\textbf{ x }_{ n }\\quad  \\right]$$\n",
    "\n",
    "Row vector:\n",
    "$$\\textbf{x} = \\left[ \\quad 0\\quad 1\\quad 2\\quad 3\\quad 4\\quad 5\\quad  \\right]$$\n",
    "\n",
    "Column vector (transpose of x):\n",
    "$$\\textbf{x}^{T}=\\quad \\left[ \\begin{matrix} \\begin{matrix} 0 \\\\ 1 \\\\ 2 \\end{matrix} \\\\ 3 \\\\ \\begin{matrix} 4 \\\\ 5 \\end{matrix} \\end{matrix} \\right]$$"
   ]
  },
  {
   "cell_type": "code",
   "execution_count": 6,
   "metadata": {},
   "outputs": [
    {
     "name": "stdout",
     "output_type": "stream",
     "text": [
      "x =\n",
      "[0, 1, 2, 3, 4, 5]\n"
     ]
    }
   ],
   "source": [
    "# Defining a row vector (array):\n",
    "vec = [0, 1, 2, 3, 4, 5]\n",
    "print(f'x =\\n{vec}')"
   ]
  },
  {
   "cell_type": "code",
   "execution_count": 7,
   "metadata": {},
   "outputs": [
    {
     "name": "stdout",
     "output_type": "stream",
     "text": [
      "x =\n",
      "[-3 -2 -1  0  1  2  3  4  5]\n",
      "shape of x = (9,)\n"
     ]
    }
   ],
   "source": [
    "# Defining a row vector using NumPy:\n",
    "x = np.arange(9) - 3\n",
    "print(f'x =\\n{x}')\n",
    "print(f'shape of x = {x.shape}')"
   ]
  },
  {
   "cell_type": "code",
   "execution_count": 8,
   "metadata": {},
   "outputs": [
    {
     "name": "stdout",
     "output_type": "stream",
     "text": [
      "transpose of x = \n",
      "[[-3]\n",
      " [-2]\n",
      " [-1]\n",
      " [ 0]\n",
      " [ 1]\n",
      " [ 2]\n",
      " [ 3]\n",
      " [ 4]\n",
      " [ 5]]\n",
      "shape of x = (1, 9)\n",
      "shape of transpose of x = (9, 1)\n",
      "----\n",
      "\n",
      "One dimensional transpose doesn't work:\n",
      "transpose of x =\n",
      "[-3 -2 -1  0  1  2  3  4  5]\n",
      "shape of x = (9,)\n",
      "shape of transpose of x = (9,)\n",
      "----\n",
      "\n",
      "Reshape hack:\n",
      "x =\n",
      " [-3 -2 -1  0  1  2  3  4  5]\n",
      "transpose of x =\n",
      "[[-3]\n",
      " [-2]\n",
      " [-1]\n",
      " [ 0]\n",
      " [ 1]\n",
      " [ 2]\n",
      " [ 3]\n",
      " [ 4]\n",
      " [ 5]]\n",
      "shape of x = (9,)\n",
      "shape of transpose of x = (9, 1)\n"
     ]
    }
   ],
   "source": [
    "# A column vector is the transpose of a row vector:\n",
    "x2d = np.array([x]) # Transpose only works for 2d arrays.\n",
    "x2d_t = x2d.T # This works, see print output.\n",
    "print(f'transpose of x = \\n{x2d_t}')\n",
    "print(f'shape of x = {x2d.shape}')\n",
    "print(f'shape of transpose of x = {x2d_t.shape}')\n",
    "\n",
    "# This doesn't work: x is 1D, and can't be transposed.\n",
    "# See print output for details.\n",
    "print('----\\n\\nOne dimensional transpose doesn\\'t work:')\n",
    "x_t = x.T\n",
    "print(f'transpose of x =\\n{x}')\n",
    "print(f'shape of x = {x.shape}')\n",
    "print(f'shape of transpose of x = {x_t.shape}')\n",
    "\n",
    "# But there is a neat trick by Ulf Aslak (https://stackoverflow.com/a/36406142)\n",
    "# WARNING: Works only for vector transpose, never use on matrices.\n",
    "x_t = x.reshape((-1, 1)) # -1 means – as many rows as needed\n",
    "print(f'----\\n\\nReshape hack:')\n",
    "print(f'x =\\n {x}')\n",
    "print(f'transpose of x =\\n{x_t}')\n",
    "print(f'shape of x = {x.shape}')\n",
    "print(f'shape of transpose of x = {x_t.shape}')"
   ]
  },
  {
   "cell_type": "code",
   "execution_count": 9,
   "metadata": {},
   "outputs": [],
   "source": [
    "######################################################################"
   ]
  },
  {
   "cell_type": "markdown",
   "metadata": {},
   "source": [
    "#### Matrices\n",
    "\n",
    "Matrices represent a two-dimensional array of values, having both rows and columns, where each element are identified by two indices.\n",
    "\n",
    "Matrices are typically denoted in literature as an uppercase bolded variable, and indices are denoted by lowercase variables $\\textit{i}$ and $\\textit{j}$.\n",
    "\n",
    "$$\\textbf{ X }=\\left[ \\begin{matrix} \\textbf{X}_{ 0,0 } & \\textbf{X}_{ 0,1 } & \\begin{matrix} { { ... }_{  } } & \\textbf{ X }_{ 0,n } \\end{matrix} \\\\ \\textbf{ X }_{ 1,0 } & \\textbf{ X }_{ 1,1 } & \\begin{matrix} { ... }_{  } & \\textbf{ X }_{ 1,n } \\end{matrix} \\\\ { \\begin{matrix} ... \\\\ \\textbf{ X }_{ m,0 } \\end{matrix} } & { \\begin{matrix} ... \\\\ \\textbf{ X }_{ m,1 } \\end{matrix} } & \\begin{matrix} \\begin{matrix} ... \\\\ ... \\end{matrix} & { \\begin{matrix} ... \\\\ \\textbf{ X }_{ m,n } \\end{matrix} } \\end{matrix} \\end{matrix} \\right]$$\n",
    "\n",
    "Matrix **X** as a 2x3 matrix:\n",
    "$$\\textbf{X}=\\left[ \\begin{matrix} 0 & 1 & 2 \\\\ 3 & 4 & 5 \\end{matrix} \\right]$$\n",
    "\n",
    "The transpose of **X** yields a 3x2 matrix:\n",
    "$$\\textbf{ X }=\\left[ \\begin{matrix} 0 & 3 \\\\ 1 & 4 \\\\ 2 & 5 \\end{matrix} \\right] $$"
   ]
  },
  {
   "cell_type": "code",
   "execution_count": 10,
   "metadata": {},
   "outputs": [
    {
     "name": "stdout",
     "output_type": "stream",
     "text": [
      "Matrix M = [\n",
      "[1, 2, 3]\n",
      "[4, 5, 6]\n",
      "[7, 8, 9]\n",
      "]\n"
     ]
    }
   ],
   "source": [
    "# Defining a matrix in Vanilla Python:\n",
    "M = [\n",
    "    [1, 2, 3],\n",
    "    [4, 5, 6],\n",
    "    [7, 8, 9]\n",
    "]\n",
    "print(f'Matrix M = [')\n",
    "for row in range(len(M)):\n",
    "    print(f'{M[row]}') # iterates to print all rows\n",
    "print(']')\n",
    "\n",
    "# When dealing with matrices, it's best to use numpy."
   ]
  },
  {
   "cell_type": "code",
   "execution_count": 11,
   "metadata": {},
   "outputs": [
    {
     "name": "stdout",
     "output_type": "stream",
     "text": [
      "Matrix X =\n",
      "[[-3 -2 -1]\n",
      " [ 0  1  2]\n",
      " [ 3  4  5]]\n",
      "3x3 ones:\n",
      "[[1 1 1]\n",
      " [1 1 1]\n",
      " [1 1 1]]\n",
      "3x3 zeros:\n",
      "[[0 0 0]\n",
      " [0 0 0]\n",
      " [0 0 0]]\n"
     ]
    }
   ],
   "source": [
    "# Numpy matrices are simpler to implement compared to vanilla python.\n",
    "\n",
    "# Defining a matrix from a vector using NumPy:\n",
    "X = np.matrix([[1, 2, 3], \n",
    "               [4, 5, 6], \n",
    "               [7, 8, 9]])\n",
    "\n",
    "# Or by reshaping a vector to a matrix:\n",
    "X = x.reshape(3, 3)\n",
    "print(f'Matrix X =\\n{X}')\n",
    "\n",
    "# Some matlab/octave(ish) utilities are present as well:\n",
    "ones = np.ones((3, 3)).astype(np.int)\n",
    "print(f'3x3 ones:\\n{ones}')\n",
    "\n",
    "zeros = np.zeros((3, 3)).astype(np.int)\n",
    "print(f'3x3 zeros:\\n{zeros}')"
   ]
  },
  {
   "cell_type": "markdown",
   "metadata": {},
   "source": [
    "#### Matrix Addition\n",
    "\n",
    "Consider the matrices **$A$** and **$B$** both are 2x3 matrices:\n",
    "$$A\\quad =\\quad \\left[ \\begin{matrix} 2 & 2 & 2 \\\\ 3 & 3 & 3 \\end{matrix} \\right] $$\n",
    "\n",
    "$$B\\quad =\\quad \\left[ \\begin{matrix} 3 & 3 & 3 \\\\ 2 & 2 & 2 \\end{matrix} \\right] $$\n",
    "\n",
    "Matrix addition is an element-wise sum; both matrices should be of equal dimensions $m x n$.\n",
    "\n",
    "$$\\textbf{C} = \\textbf{A} + \\textbf{B}$$\n",
    "\n",
    "$$\\textbf{C} =\\quad \\left[ \\begin{matrix} 2 & 2 & 2 \\\\ 3 & 3 & 3 \\end{matrix} \\right] +\\left[ \\begin{matrix} 3 & 3 & 3 \\\\ 2 & 2 & 2 \\end{matrix} \\right]$$\n",
    "\n",
    "$$\\textbf{C} =\\quad \\left[ \\begin{matrix} 5 & 5 & 5 \\\\ 5 & 5 & 5 \\end{matrix} \\right]$$\n",
    "\n",
    "#### Properties of Matrix Addition:\n",
    "Commutative: $\\textbf{A}+\\textbf{B} = \\textbf{B}+\\textbf{A}$\n",
    "\n",
    "Associative: $(\\textbf{A}+\\textbf{B})+\\textbf{C} = \\textbf{A}+(\\textbf{B}+\\textbf{C})$\n",
    "\n",
    "Since its associative, we can simply write it as: $\\textbf{A} + \\textbf{B} + \\textbf{C}$\n",
    "\n",
    "$\\textbf{A} + 0 = 0 + \\textbf{A} = \\textbf{A}$\n",
    "\n",
    "$\\textbf{A} - \\textbf{A} = 0$\n",
    "\n",
    "$(\\textbf{A}+\\textbf{B}) = \\textbf{A}^{T} + \\textbf{B}^{T}$"
   ]
  },
  {
   "cell_type": "code",
   "execution_count": 12,
   "metadata": {},
   "outputs": [
    {
     "name": "stdout",
     "output_type": "stream",
     "text": [
      "C =\n",
      "[[5 5 5]\n",
      " [5 5 5]]\n"
     ]
    }
   ],
   "source": [
    "A = np.matrix([[2, 2, 2], \n",
    "               [3, 3, 3]])\n",
    "B = np.matrix([[3, 3, 3], \n",
    "               [2, 2, 2]])\n",
    "C = A+B\n",
    "\n",
    "print(f'C =\\n{C}')"
   ]
  },
  {
   "cell_type": "markdown",
   "metadata": {},
   "source": [
    "#### Matrix Subtraction\n",
    "\n",
    "Similar to matrix addition, matrices in matrix subtraction must be of the same dimensions $m x n$.\n",
    "\n",
    "Consider the matrices A and I both are 2x2 square matrices:\n",
    "\n",
    "$$\\textbf{A} =\\quad \\left[ \\begin{matrix} 1 & 1 \\\\ 1 & 1 \\end{matrix} \\right]$$\n",
    "\n",
    "$$\\textbf{I} =\\quad \\left[ \\begin{matrix} 1 & 0 \\\\ 0 & 1 \\end{matrix} \\right]$$\n",
    "\n",
    "Matrix subtraction is an element-wise difference. $\\textbf{I} is an identity matrix$\n",
    "\n",
    "$$\\textbf{C} = \\textbf{A} - \\textbf{I}$$\n",
    "\n",
    "$$\\textbf{C} =\\quad \\left[ \\begin{matrix} 1 & 1 \\\\ 1 & 1 \\end{matrix} \\right] -\\left[ \\begin{matrix} 1 & 0 \\\\ 0 & 1 \\end{matrix} \\right]$$\n",
    "\n",
    "$$\\textbf{C}=\\quad \\left[ \\begin{matrix} 0 & 1 \\\\ 1 & 0 \\end{matrix} \\right] $$\n",
    "\n",
    "\n",
    "#### Properties of Matrix Subtraction\n",
    "\n",
    "**NOT** commutative; neither is subtraction of real numbers.\n",
    "\n",
    "**NOT** associative; neither is subtraction of real numbers.\n",
    "\n",
    "Matrix order is important."
   ]
  },
  {
   "cell_type": "code",
   "execution_count": 13,
   "metadata": {},
   "outputs": [
    {
     "name": "stdout",
     "output_type": "stream",
     "text": [
      "C =\n",
      "[[0 1]\n",
      " [1 0]]\n"
     ]
    }
   ],
   "source": [
    "A = np.matrix([[1, 1], \n",
    "               [1, 1]])\n",
    "I = np.matrix([[1, 0], \n",
    "               [0, 1]])\n",
    "C = A-I\n",
    "\n",
    "print(f'C =\\n{C}')"
   ]
  },
  {
   "cell_type": "markdown",
   "metadata": {},
   "source": [
    "#### Matrix Multiplication\n",
    "\n",
    "Consider the matrices $\\textbf{A}$ and $\\textbf{B}$, of sizes $m x p$ and $p x n$ respectively,\n",
    "\n",
    "$$\\textbf{A}=\\quad \\left[ \\begin{matrix} 1 & 2 & -1 \\\\ 3 & 4 & -2 \\end{matrix} \\right]$$\n",
    "\n",
    "$$B=\\quad \\left[ \\begin{matrix} 2 & 3 \\\\ 3 & 4 \\\\ 4 & 5 \\end{matrix} \\right]$$\n",
    "\n",
    "The inner dimensions of two matrices must agree inorder to proceed with the multiplication: matrices $\\textbf{AB}$ has dimensions $(m x p)$ $(p x n)$, and will result to a $m x n$ matrix.\n",
    "\n",
    "In the example above, matrices $\\textbf{AB}$ of sizes 2x3 and 3x2 will result to a 2x2 matrix $\\textbf{C}$.\n",
    "\n",
    "$$\\textbf{C} = \\textbf{AB}$$\n",
    "\n",
    "$$\\textbf{C}=\\quad \\left[ \\begin{matrix} 1 & 2 & -1 \\\\ 3 & 4 & -2 \\end{matrix} \\right] \\quad \\left[ \\begin{matrix} 2 & 3 \\\\ 3 & 4 \\\\ 4 & 5 \\end{matrix} \\right]$$\n",
    "\n",
    "$$\\textbf{C}=\\quad \\left[ \\begin{matrix} 4 & 6 \\\\ 10 & 15 \\end{matrix} \\right] $$\n",
    "\n",
    "Matrix multiplication computes for the inner product (dot product) of the rows and columns of both matrices.\n",
    "\n",
    "$$\\textbf{C}_{ i,j }= \\sum _{ k=1 }^{ p }{ { a }_{ ik }{ b }_{ kj } } =\\quad { a }_{ i1 }{ b }_{ 1j }+...+{ a }_{ ip }{ b }_{ pj }$$\n",
    "$${ a }_{ ik } \\in \\textbf{A}$$\n",
    "$${ b }_{ kj } \\in \\textbf{B}$$\n",
    "$$i = 1,...,m$$\n",
    "$$j = 1,...,n$$\n",
    "\n",
    "In the example above: $\\textbf{C} = \\textbf{AB}$, $\\textbf{C}$ is computed as the following iterations:\n",
    "\n",
    "Iteration 1: $i=1, j=1, k=1...3$\n",
    "$$\\textbf{ C }_{ 1,1 }=\\sum _{ k=1 }^{ 3 }{ { a }_{ ik }{ b }_{ kj } } = { a }_{ 11 }{ b }_{ 11 }+{ a }_{ 12 }{ b }_{ 21 }+{ a }_{ 13 }{ b }_{ 31 }$$\n",
    "$$\\textbf{ C }_{ 1,1 }=\\sum _{ k=1 }^{ 3 }{ { a }_{ ik }{ b }_{ kj } } = { (1) }{ (2) }+(2)(3)+(-1)(4)$$\n",
    "\n",
    "$$\\textbf{ C }_{ 1,1 }={ 4 }$$\n",
    "\n",
    "$$C=\\left[ \\begin{matrix} 4 & 0 \\\\ 0 & 0 \\end{matrix} \\right]$$\n",
    "\n",
    "Iteration 2: $i=1, j=2, k=1...3$\n",
    "$$\\textbf{ C }_{ 1,2 }=\\sum _{ k=1 }^{ 3 }{ { a }_{ ik }{ b }_{ kj } } = { a }_{ 11 }{ b }_{ 12 }+{ a }_{ 12 }{ b }_{ 22 }+{ a }_{ 13 }{ b }_{ 32 }$$\n",
    "$$\\textbf{ C }_{ 1,2 }=\\sum _{ k=1 }^{ 3 }{ { a }_{ ik }{ b }_{ kj } } = { (1) }{ (3) }+(2)(4)+(-1)(5)$$\n",
    "\n",
    "$$\\textbf{ C }_{ 1,1 }={ 6 }$$\n",
    "\n",
    "$$C=\\left[ \\begin{matrix} 4 & 6 \\\\ 0 & 0 \\end{matrix} \\right]$$\n",
    "\n",
    "You can continue doing so with iterations 3 and 4, you get the idea.\n",
    "\n",
    "#### Properties of Matrix Multiplication\n",
    "\n",
    "Associative: $(\\textbf{AB})\\textbf{C} = \\textbf{A}(\\textbf{BC})$\n",
    "\n",
    "**NOT** Commutative: Order of matrices are important.\n",
    "\n",
    "Distributive: \n",
    "\n",
    "$\\textbf{A}(\\textbf{B}+\\textbf{C}) = \\textbf{AB}+\\textbf{AC}$\n",
    "\n",
    "$(\\textbf{AB})^{T} = \\textbf{B}^{T}\\textbf{A}^{T}$ *Order is important"
   ]
  },
  {
   "cell_type": "code",
   "execution_count": 14,
   "metadata": {},
   "outputs": [
    {
     "name": "stdout",
     "output_type": "stream",
     "text": [
      "C =\n",
      "[[ 4  6]\n",
      " [10 15]]\n"
     ]
    }
   ],
   "source": [
    "A = np.matrix([[1, 2, -1], \n",
    "               [3, 4, -2]])\n",
    "B = np.matrix([[2, 3], \n",
    "               [3, 4], \n",
    "               [4, 5]])\n",
    "\n",
    "C = np.matmul(A, B)\n",
    "\n",
    "print(f'C =\\n{C}')"
   ]
  },
  {
   "cell_type": "markdown",
   "metadata": {},
   "source": [
    "#### Hadamard Product and Scalar Multiplication\n",
    "\n",
    "Scalars can be multiplied to a matrix, by calculating the element-wise product with respect to the scalar.\n",
    "\n",
    "In literature, scalar multiplication is denoted by juxtaposition or $.$ with the scalar on the left:\n",
    "\n",
    "$$(2)\\cdot \\left[ \\begin{matrix} 2 & 4 \\\\ 6 & 8 \\end{matrix} \\right] =\\left[ \\begin{matrix} 4 & 8 \\\\ 12 & 16 \\end{matrix} \\right]$$\n",
    "\n",
    "Hadamard product is the element-wise product of two matrices with the same dimension.\n",
    "\n",
    "In the example above, $\\textbf{C}=\\textbf{AB}$, matrices $\\textbf{A}$ and $\\textbf{B}$ are of sizes 2x3 and 3x2 respectively. For the sake of this example, we can perform a transpose operation to matrix $\\textbf{B}$ to make it a 2x3 matrix similar to matrix $\\textbf{A}$.\n",
    "\n",
    "$$\\textbf{C}=\\textbf{A}\\textbf{B}^{T}$$\n",
    "\n",
    "$$\\textbf{ C }= \\left[ \\begin{matrix} 1 & 2 & -1 \\\\ 3 & 4 & -2 \\end{matrix} \\right] \\quad \\left[ \\begin{matrix} 2 & 3 & 4 \\\\ 3 & 4 & 5 \\end{matrix} \\right]$$\n",
    "\n",
    "$$\\textbf{ C }= \\left[ \\begin{matrix} 2 & 6 & -4 \\\\ 9 & 16 & -10 \\end{matrix} \\right]$$"
   ]
  },
  {
   "cell_type": "code",
   "execution_count": 15,
   "metadata": {},
   "outputs": [
    {
     "name": "stdout",
     "output_type": "stream",
     "text": [
      "Scalar Multiplication: a.A\n",
      "c =\n",
      "[[ 4  8]\n",
      " [12 16]]\n",
      "Hadamard Product: C=AB^T\n",
      "C =\n",
      "[[  2   6  -4]\n",
      " [  9  16 -10]]\n"
     ]
    }
   ],
   "source": [
    "# Scalar multiplication\n",
    "a = 2\n",
    "A = np.matrix([[2, 4], \n",
    "               [6, 8]])\n",
    "c = a * A\n",
    "print('Scalar Multiplication: a.A')\n",
    "print(f'c =\\n{c}')\n",
    "\n",
    "# Hadamard product\n",
    "A = np.matrix([[1, 2, -1], \n",
    "               [3, 4, -2]])\n",
    "B = np.matrix([[2, 3], \n",
    "               [3, 4], \n",
    "               [4, 5]])\n",
    "\n",
    "C = np.multiply(A, B.T)\n",
    "print('Hadamard Product: C=AB^T')\n",
    "print(f'C =\\n{C}')"
   ]
  },
  {
   "cell_type": "code",
   "execution_count": 16,
   "metadata": {},
   "outputs": [],
   "source": [
    "######################################################################"
   ]
  },
  {
   "cell_type": "markdown",
   "metadata": {},
   "source": [
    "#### Norms\n",
    "\n",
    "Norms determine the magnitude of a vector or a matrix – basically, it tells us the distance of the vector or a matrix from the origin.\n",
    "\n",
    "Norms are defined in the following form:\n",
    "**${L}^{P} norm$**\n",
    "\n",
    "$${ \\left\\| x \\right\\|  }_{ P }={ \\left( \\sum _{ i }^{  }{ { \\left| { x }_{ i } \\right|  }^{ P } }  \\right)  }^{ \\frac { 1 }{ P }  }$$\n",
    "\n",
    "To acquire the norm of a vector, you can use the Euclidean (L2) norm:\n",
    "**${L}^{2} norm$**\n",
    "\n",
    "$${ \\left\\| x \\right\\|  }_{ 2 }={ \\left( \\sum _{ i }^{  }{ { \\left| { x }_{ i } \\right|  }^{ 2 } }  \\right)  }^{ \\frac { 1 }{ 2 }  }$$\n",
    "\n",
    "To acquire the L2 norm of a matrix, use the Frobenius norm:\n",
    "\n",
    "$${ \\left\\| A \\right\\|  }_{ F }={ \\left( \\sum _{ i,j }^{  }{ { { A }_{ i,j } }^{ 2 } }  \\right)  }^{ \\frac { 1 }{ 2 }  }$$\n",
    "\n",
    "The Euclidean (L2) norm of a vector is analogous to the Frobenius norm of a matrix, so by using numpy's linear algebra package, we should be able to acquire similar result.\n",
    "\n",
    "If we wanted to simplify the absolute value of the largest elements in a vector or a matrix, we can use the max norm:\n",
    "**${L}^{\\infty}norm$**\n",
    "\n",
    "$${ \\left\\| x \\right\\|  }_{ \\infty  }={ \\max _{ i }{ { \\left| { x }_{ i } \\right|  } }  }$$"
   ]
  },
  {
   "cell_type": "code",
   "execution_count": 17,
   "metadata": {},
   "outputs": [
    {
     "name": "stdout",
     "output_type": "stream",
     "text": [
      "The L2 norm of vector x:\n",
      "8.306623862918075\n",
      "The Frobenius norm of matrix X:\n",
      "8.306623862918075\n",
      "The max norm of vector x:\n",
      "5.0\n",
      "The max norm of matrix X:\n",
      "12.0\n"
     ]
    }
   ],
   "source": [
    "# Recall that X is a matrix which has been reshaped from the row vector x.\n",
    "norm_x = np.linalg.norm(x)\n",
    "norm_X = np.linalg.norm(X, 'fro')\n",
    "\n",
    "print(f'The L2 norm of vector x:\\n{norm_x}')\n",
    "print(f'The Frobenius norm of matrix X:\\n{norm_X}')\n",
    "\n",
    "# When using max-norm (P=infinity), we get different results for both matrix X and vector x.\n",
    "maxnorm_x = np.linalg.norm(x, np.inf)\n",
    "maxnorm_X = np.linalg.norm(X, np.inf)\n",
    "\n",
    "print(f'The max norm of vector x:\\n{maxnorm_x}')\n",
    "print(f'The max norm of matrix X:\\n{maxnorm_X}')"
   ]
  },
  {
   "cell_type": "code",
   "execution_count": 18,
   "metadata": {},
   "outputs": [],
   "source": [
    "######################################################################"
   ]
  },
  {
   "cell_type": "markdown",
   "metadata": {},
   "source": [
    "#### Vector Normalization\n",
    "\n",
    "Normalization is the process of dividing a vector by its magnitude, resulting to a unit vector (normalized vector).\n",
    "\n",
    "$$\\frac { \\textbf{x} }{ { \\left\\| \\textbf{x} \\right\\|  }_{ 2 } } =1$$\n",
    "\n",
    "eg.\n",
    "$$\\textbf{x} = \\left[ \\quad 1\\quad 1\\quad 1\\quad 1\\quad  \\right]$$\n",
    "\n",
    "$$\\frac { \\textbf{x} }{ { \\left\\| \\textbf{x} \\right\\|  }_{ 2 } } =\\frac { \\textbf{x} }{ { \\sqrt { \\left( { 1 }^{ 2 }+{ 1 }^{ 2 }+{ 1 }^{ 2 }+{ 1 }^{ 2 } \\right)  }  } }$$\n",
    "\n",
    "$$=\\frac { \\textbf{x} }{ { \\sqrt { 4 }  } } $$\n",
    "\n",
    "$$\\frac { \\textbf{x} }{ { \\left\\| \\textbf{x} \\right\\|  }_{ 2 } } =\\left[ \\begin{matrix} \\frac { 1 }{ 2 }  & \\frac { 1 }{ 2 }  & \\frac { 1 }{ 2 }  & \\frac { 1 }{ 2 }  \\end{matrix} \\right]$$\n",
    "\n",
    "Proof:\n",
    "\n",
    "$$\\frac { \\textbf{x} }{ { \\left\\| \\textbf{x} \\right\\|  }_{ 2 } } =\\left[ \\begin{matrix} \\frac { 1 }{ 2 }  & \\frac { 1 }{ 2 }  & \\frac { 1 }{ 2 }  & \\frac { 1 }{ 2 }  \\end{matrix} \\right]$$\n",
    "\n",
    "$$\\frac { \\textbf{x} }{ { \\left\\| \\textbf{x} \\right\\|  }_{ 2 } } =\\sqrt { \\begin{matrix} { \\left( \\frac { 1 }{ 2 }  \\right)  }^{ 2 }+ & { \\left( \\frac { 1 }{ 2 }  \\right)  }^{ 2 }+ & { \\left( \\frac { 1 }{ 2 }  \\right)  }^{ 2 }+ & { \\left( \\frac { 1 }{ 2 }  \\right)  }^{ 2 } \\end{matrix} }$$\n",
    "\n",
    "$$=\\sqrt { \\begin{matrix} \\frac { 1 }{ 4 } \\quad + & \\frac { 1 }{ 4 } \\quad + & \\frac { 1 }{ 4 } \\quad + & \\frac { 1 }{ 4 }  \\end{matrix} }$$\n",
    "\n",
    "$$=\\sqrt { 1 }$$\n",
    "\n",
    "$$\\frac { \\textbf{x} }{ { \\left\\| \\textbf{x} \\right\\|  }_{ 2 } } =1$$"
   ]
  },
  {
   "cell_type": "code",
   "execution_count": 19,
   "metadata": {},
   "outputs": [
    {
     "name": "stdout",
     "output_type": "stream",
     "text": [
      "The unit vector of x is:\n",
      "[-0.36115756 -0.24077171 -0.12038585  0.          0.12038585  0.24077171\n",
      "  0.36115756  0.48154341  0.60192927]\n",
      "The magnitude of the unit vector of x is:\n",
      "1.0\n"
     ]
    }
   ],
   "source": [
    "# Recall that norm_x is the L2 norm of vector x.\n",
    "unit_x = x / norm_x\n",
    "\n",
    "print(f'The unit vector of x is:\\n{unit_x}')\n",
    "\n",
    "# Test: The magnitude of a unit vector is equal to 1.\n",
    "norm_unit_x = np.linalg.norm(unit_x)\n",
    "\n",
    "print(f'The magnitude of the unit vector of x is:\\n{norm_unit_x}')"
   ]
  },
  {
   "cell_type": "code",
   "execution_count": 20,
   "metadata": {},
   "outputs": [],
   "source": [
    "######################################################################"
   ]
  },
  {
   "cell_type": "markdown",
   "metadata": {},
   "source": [
    "#### Eigendecomposition\n",
    "\n",
    "The basic idea of an eigendecomposition is to breakdown a mathematical object into their constituent parts. Using eigendecomposition, we can decompose a matrix in a way that reveal information about their functional properties.\n",
    "\n",
    "A matrix can be decomposed into _eigenvalues_ and _eigenvectors_.\n",
    "\n",
    "An _eigenvector_ of a square matrix **$A$** is a nonzero vector **$v$** such that multiplication by **$A$** alters the scale of **$v$**; where the scale is the eigenvalue $\\lambda$ which is a scalar.\n",
    "\n",
    "$$Av=\\lambda v$$\n",
    "\n",
    "So, if a matrix **$A$** has $n$ linearly independent eigenvectors –\n",
    "another matrix **$V$** can be formed with one eigenvector per column, and a vector $\\lambda$ of eigenvalues for each eigenvector respectively.\n",
    "\n",
    "The eigendecomposition of **$A$** is then given by:\n",
    "\n",
    "$$ \\textbf{A}= \\textbf{V} diag(\\lambda) \\textbf{V}^{-1} $$\n",
    "\n",
    "However, it is important to note that _not every matrix can be decomposed into eigenvalues and eigenvectors_. Only diagonalizable matrices can be factorized using eigendecomposition."
   ]
  },
  {
   "cell_type": "code",
   "execution_count": 21,
   "metadata": {},
   "outputs": [
    {
     "name": "stdout",
     "output_type": "stream",
     "text": [
      "Square matrix A:\n",
      "[[1 0 0]\n",
      " [0 2 0]\n",
      " [0 0 3]]\n",
      "Eigenvalues acquired:\n",
      "[1. 2. 3.]\n",
      "Eigenvectors acquired:\n",
      "[[1. 0. 0.]\n",
      " [0. 1. 0.]\n",
      " [0. 0. 1.]]\n",
      "Square matrix A:\n",
      "[[1 0 0]\n",
      " [0 2 0]\n",
      " [0 0 3]]\n",
      "Recomposed matrix A:\n",
      "[[1 0 0]\n",
      " [0 2 0]\n",
      " [0 0 3]]\n"
     ]
    }
   ],
   "source": [
    "# Find the eigenvalues and eigenvectors for a single square matrix:\n",
    "A = np.diag(np.arange(1,4))\n",
    "print(f'Square matrix A:\\n{A}')\n",
    "\n",
    "# Eigendecomposition\n",
    "eigenvalues, eigenvectors = np.linalg.eig(A)\n",
    "print(f'Eigenvalues acquired:\\n{eigenvalues}')\n",
    "print(f'Eigenvectors acquired:\\n{eigenvectors}')\n",
    "\n",
    "# Test: Using the eigendecomposition formula, let's compose matrix A.\n",
    "diag_eigenvalues = np.diag(eigenvalues)\n",
    "inverse_eigenvector = np.linalg.inv(eigenvectors)\n",
    "mat_diag_inv = np.matmul(diag_eigenvalues, inverse_eigenvector)\n",
    "recomposed_A = np.matmul(eigenvectors, mat_diag_inv).astype(np.int)\n",
    "\n",
    "print(f'Square matrix A:\\n{A}')\n",
    "print(f'Recomposed matrix A:\\n{recomposed_A}')"
   ]
  },
  {
   "cell_type": "markdown",
   "metadata": {},
   "source": [
    "#### Effects of Eigenvalues and Eigenvectors\n",
    "\n",
    "Multiplication of the eigenvectors **$V$** to the matrix **$A$** distorts the magnitude of **$A$** by the scale of $\\lambda$.\n",
    "\n",
    "See the plot below to visualize the concept."
   ]
  },
  {
   "cell_type": "code",
   "execution_count": 22,
   "metadata": {},
   "outputs": [
    {
     "data": {
      "image/png": "[encoded data removed]",
      "text/plain": [
       "<Figure size 1296x720 with 2 Axes>"
      ]
     },
     "metadata": {
      "needs_background": "light"
     },
     "output_type": "display_data"
    }
   ],
   "source": [
    "from mpl_toolkits.mplot3d import Axes3D\n",
    "import matplotlib.pyplot as plot\n",
    "import matplotlib.cm as cm\n",
    "%matplotlib inline\n",
    "\n",
    "origin = [0, 0, 0]\n",
    "\n",
    "fig1 = plot.figure(figsize=(18,10))\n",
    "fig1.suptitle('Effects of Eigenvalues and Eigenvectors')\n",
    "\n",
    "# Plot the eigenvectors before multiplication:\n",
    "sp1 = fig1.add_subplot(121, projection='3d')\n",
    "sp1.quiver(origin, \n",
    "           origin, \n",
    "           origin, \n",
    "           eigenvectors[0, :], \n",
    "           eigenvectors[1, :], \n",
    "           eigenvectors[2, :], \n",
    "           color='k')\n",
    "\n",
    "sp1.plot(eigenvectors[0], \n",
    "         eigenvectors[1], \n",
    "         eigenvectors[2], \n",
    "         'ro')\n",
    "\n",
    "sp1.set_xlim([-5, 5])\n",
    "sp1.set_ylim([-5, 5])\n",
    "sp1.set_zlim([-5, 5])\n",
    "sp1.set_xlabel('X-axis')\n",
    "sp1.set_ylabel('Y-axis')\n",
    "sp1.set_zlabel('Z-axis')\n",
    "sp1.view_init(15, 30)\n",
    "sp1.set_title('Before Multiplication (AV)')\n",
    "\n",
    "# Do the multiplication AV\n",
    "scaled_eigenvectors = np.matmul(A, eigenvectors)\n",
    "\n",
    "# Plot the eigenvectors after multiplication:\n",
    "sp2 = fig1.add_subplot(122, projection='3d')\n",
    "sp2.quiver(origin, \n",
    "           origin, \n",
    "           origin, \n",
    "           scaled_eigenvectors[0, :], \n",
    "           scaled_eigenvectors[1, :], \n",
    "           scaled_eigenvectors[2, :], \n",
    "           color='k')\n",
    "\n",
    "scale1 = eigenvalues[0] * eigenvectors[0]\n",
    "scale2 = eigenvalues[1] * eigenvectors[1]\n",
    "scale3 = eigenvalues[2] * eigenvectors[2]\n",
    "\n",
    "sp2.plot(scale1, \n",
    "         scale2, \n",
    "         scale3, \n",
    "         'ro')\n",
    "\n",
    "sp2.set_title('After Multiplication')\n",
    "sp2.set_xlim([-5, 5])\n",
    "sp2.set_ylim([-5, 5])\n",
    "sp2.set_zlim([-5, 5])\n",
    "sp2.set_xlabel('Scaled X-axis')\n",
    "sp2.set_ylabel('Scaled Y-axis')\n",
    "sp2.set_zlabel('Scaled Z-axis')\n",
    "sp2.view_init(15, 30)\n",
    "\n",
    "plot.show()"
   ]
  }
 ],
 "metadata": {
  "kernelspec": {
   "display_name": "Python 3",
   "language": "python",
   "name": "python3"
  },
  "language_info": {
   "codemirror_mode": {
    "name": "ipython",
    "version": 3
   },
   "file_extension": ".py",
   "mimetype": "text/x-python",
   "name": "python",
   "nbconvert_exporter": "python",
   "pygments_lexer": "ipython3",
   "version": "3.7.0"
  }
 },
 "nbformat": 4,
 "nbformat_minor": 2
}
